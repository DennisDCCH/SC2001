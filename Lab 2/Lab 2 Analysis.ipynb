{
 "cells": [
  {
   "cell_type": "code",
   "execution_count": 27,
   "id": "a28b6bf5",
   "metadata": {},
   "outputs": [],
   "source": [
    "import pandas as pd\n",
    "import seaborn as sb\n",
    "import numpy as np\n",
    "import matplotlib.pyplot as plt"
   ]
  },
  {
   "attachments": {
    "Dijkstra's%20AdjMatrix.png": {
     "image/png": "[encoded data removed]"
    }
   },
   "cell_type": "markdown",
   "id": "6e6d2f89",
   "metadata": {},
   "source": [
    "<h1>Theoretical time complexity of Dijkstra's Algorithm with graph being represented as an adjacency matrix and priority queue as an unordered list (normal array)</h1>\n",
    "\n",
    "Assuming given graph is G = (V, E)\n",
    "\n",
    "Step 1: Check all find and select a unvisited vertex with the smallest path. Require O(V) time to check all the vertices <br>\n",
    "Step 2: At the new vertex, need to update a neighbour path of this new vertex to the smaller value between its current path or to the newly found. Takes O(1) time. <br>\n",
    "Step 3: Do Step 2 for all the neighbours of the new vertex, and each vertex can have at most V-1 neighours, so total time becomes O(V) * O(1) = O(V)\n",
    "\n",
    "Time Complexity Analysis <br>\n",
    "Time to visit all vertices = O(V) <br>\n",
    "Time to process one vertex = O(V) <br>\n",
    "Therefore, total time complexity to vist and process all vertices -> O(V) * O(V) = O(V^2)\n",
    "\n",
    "Example of Dijkstra's Algorithm Implementation\n",
    "![Dijkstra's%20AdjMatrix.png](attachment:Dijkstra's%20AdjMatrix.png)"
   ]
  },
  {
   "cell_type": "markdown",
   "id": "0c7e5022",
   "metadata": {},
   "source": [
    "Next, collecting empirical results.\n",
    "\n",
    "We will be collecting the run time for Dijkstra's Algorithm. So we will generate graph ranging from 100 to 10000 vertices with interval of 100. For each size, we will be generating 5 different graphs and collecting 5 timings and taking the average"
   ]
  },
  {
   "cell_type": "code",
   "execution_count": 28,
   "id": "1777a72c",
   "metadata": {},
   "outputs": [
    {
     "data": {
      "text/html": [
       "<div>\n",
       "<style scoped>\n",
       "    .dataframe tbody tr th:only-of-type {\n",
       "        vertical-align: middle;\n",
       "    }\n",
       "\n",
       "    .dataframe tbody tr th {\n",
       "        vertical-align: top;\n",
       "    }\n",
       "\n",
       "    .dataframe thead th {\n",
       "        text-align: right;\n",
       "    }\n",
       "</style>\n",
       "<table border=\"1\" class=\"dataframe\">\n",
       "  <thead>\n",
       "    <tr style=\"text-align: right;\">\n",
       "      <th></th>\n",
       "      <th>Vertices</th>\n",
       "      <th>Time 1</th>\n",
       "      <th>Time 2</th>\n",
       "      <th>Time 3</th>\n",
       "      <th>Time 4</th>\n",
       "      <th>Time 5</th>\n",
       "      <th>Average Time</th>\n",
       "      <th>O(V^2)</th>\n",
       "    </tr>\n",
       "  </thead>\n",
       "  <tbody>\n",
       "    <tr>\n",
       "      <th>0</th>\n",
       "      <td>100</td>\n",
       "      <td>0.000</td>\n",
       "      <td>0.000</td>\n",
       "      <td>0.000</td>\n",
       "      <td>0.000</td>\n",
       "      <td>0.000</td>\n",
       "      <td>0.0000</td>\n",
       "      <td>10000</td>\n",
       "    </tr>\n",
       "    <tr>\n",
       "      <th>1</th>\n",
       "      <td>200</td>\n",
       "      <td>0.000</td>\n",
       "      <td>0.000</td>\n",
       "      <td>0.000</td>\n",
       "      <td>0.000</td>\n",
       "      <td>0.000</td>\n",
       "      <td>0.0000</td>\n",
       "      <td>40000</td>\n",
       "    </tr>\n",
       "    <tr>\n",
       "      <th>2</th>\n",
       "      <td>300</td>\n",
       "      <td>0.003</td>\n",
       "      <td>0.000</td>\n",
       "      <td>0.000</td>\n",
       "      <td>0.000</td>\n",
       "      <td>0.000</td>\n",
       "      <td>0.0006</td>\n",
       "      <td>90000</td>\n",
       "    </tr>\n",
       "    <tr>\n",
       "      <th>3</th>\n",
       "      <td>400</td>\n",
       "      <td>0.000</td>\n",
       "      <td>0.000</td>\n",
       "      <td>0.000</td>\n",
       "      <td>0.000</td>\n",
       "      <td>0.000</td>\n",
       "      <td>0.0000</td>\n",
       "      <td>160000</td>\n",
       "    </tr>\n",
       "    <tr>\n",
       "      <th>4</th>\n",
       "      <td>500</td>\n",
       "      <td>0.006</td>\n",
       "      <td>0.004</td>\n",
       "      <td>0.000</td>\n",
       "      <td>0.000</td>\n",
       "      <td>0.000</td>\n",
       "      <td>0.0020</td>\n",
       "      <td>250000</td>\n",
       "    </tr>\n",
       "    <tr>\n",
       "      <th>5</th>\n",
       "      <td>600</td>\n",
       "      <td>0.000</td>\n",
       "      <td>0.005</td>\n",
       "      <td>0.001</td>\n",
       "      <td>0.000</td>\n",
       "      <td>0.000</td>\n",
       "      <td>0.0012</td>\n",
       "      <td>360000</td>\n",
       "    </tr>\n",
       "    <tr>\n",
       "      <th>6</th>\n",
       "      <td>700</td>\n",
       "      <td>0.000</td>\n",
       "      <td>0.003</td>\n",
       "      <td>0.007</td>\n",
       "      <td>0.005</td>\n",
       "      <td>0.011</td>\n",
       "      <td>0.0052</td>\n",
       "      <td>490000</td>\n",
       "    </tr>\n",
       "    <tr>\n",
       "      <th>7</th>\n",
       "      <td>800</td>\n",
       "      <td>0.004</td>\n",
       "      <td>0.001</td>\n",
       "      <td>0.000</td>\n",
       "      <td>0.000</td>\n",
       "      <td>0.000</td>\n",
       "      <td>0.0010</td>\n",
       "      <td>640000</td>\n",
       "    </tr>\n",
       "    <tr>\n",
       "      <th>8</th>\n",
       "      <td>900</td>\n",
       "      <td>0.002</td>\n",
       "      <td>0.005</td>\n",
       "      <td>0.011</td>\n",
       "      <td>0.005</td>\n",
       "      <td>0.012</td>\n",
       "      <td>0.0070</td>\n",
       "      <td>810000</td>\n",
       "    </tr>\n",
       "    <tr>\n",
       "      <th>9</th>\n",
       "      <td>1000</td>\n",
       "      <td>0.005</td>\n",
       "      <td>0.006</td>\n",
       "      <td>0.005</td>\n",
       "      <td>0.006</td>\n",
       "      <td>0.013</td>\n",
       "      <td>0.0070</td>\n",
       "      <td>1000000</td>\n",
       "    </tr>\n",
       "  </tbody>\n",
       "</table>\n",
       "</div>"
      ],
      "text/plain": [
       "   Vertices  Time 1  Time 2  Time 3  Time 4  Time 5  Average Time   O(V^2)\n",
       "0       100   0.000   0.000   0.000   0.000   0.000        0.0000    10000\n",
       "1       200   0.000   0.000   0.000   0.000   0.000        0.0000    40000\n",
       "2       300   0.003   0.000   0.000   0.000   0.000        0.0006    90000\n",
       "3       400   0.000   0.000   0.000   0.000   0.000        0.0000   160000\n",
       "4       500   0.006   0.004   0.000   0.000   0.000        0.0020   250000\n",
       "5       600   0.000   0.005   0.001   0.000   0.000        0.0012   360000\n",
       "6       700   0.000   0.003   0.007   0.005   0.011        0.0052   490000\n",
       "7       800   0.004   0.001   0.000   0.000   0.000        0.0010   640000\n",
       "8       900   0.002   0.005   0.011   0.005   0.012        0.0070   810000\n",
       "9      1000   0.005   0.006   0.005   0.006   0.013        0.0070  1000000"
      ]
     },
     "execution_count": 28,
     "metadata": {},
     "output_type": "execute_result"
    }
   ],
   "source": [
    "results1 = pd.read_csv(\"lab2_result_1.csv\")\n",
    "results1[\"O(V^2)\"] = results1[\"Vertices\"] ** 2\n",
    "results1.head(10)"
   ]
  },
  {
   "cell_type": "markdown",
   "id": "20a9986c",
   "metadata": {},
   "source": [
    "So in order to determine whether our algorithm implementation is accurate, we will first plot a graph of average timing against vertices and compare it with the time complexity against vertices. "
   ]
  },
  {
   "cell_type": "code",
   "execution_count": 37,
   "id": "16235942",
   "metadata": {},
   "outputs": [
    {
     "data": {
      "text/plain": [
       "<AxesSubplot:xlabel='Vertices', ylabel='Average Time'>"
      ]
     },
     "execution_count": 37,
     "metadata": {},
     "output_type": "execute_result"
    },
    {
     "data": {
      "image/png": "[encoded data removed]",
      "text/plain": [
       "<Figure size 432x288 with 1 Axes>"
      ]
     },
     "metadata": {
      "needs_background": "light"
     },
     "output_type": "display_data"
    }
   ],
   "source": [
    "empirical_results = results1[['Vertices', 'Average Time']]\n",
    "sb.lineplot(x = \"Vertices\",\n",
    "            y = \"Average Time\",\n",
    "            data = empirical_results)\n",
    "\n",
    "#Graph of average timiing against vertices"
   ]
  },
  {
   "cell_type": "code",
   "execution_count": 38,
   "id": "5e8c57b0",
   "metadata": {},
   "outputs": [
    {
     "data": {
      "text/plain": [
       "<AxesSubplot:xlabel='Vertices', ylabel='O(V^2)'>"
      ]
     },
     "execution_count": 38,
     "metadata": {},
     "output_type": "execute_result"
    },
    {
     "data": {
      "image/png": "[encoded data removed]",
      "text/plain": [
       "<Figure size 432x288 with 1 Axes>"
      ]
     },
     "metadata": {
      "needs_background": "light"
     },
     "output_type": "display_data"
    }
   ],
   "source": [
    "theoretical_results = results1[[\"Vertices\", \"O(V^2)\"]]\n",
    "sb.lineplot(x = \"Vertices\",\n",
    "            y = \"O(V^2)\",\n",
    "            data = theoretical_results)\n",
    "\n",
    "#Graph of time complexity O(V^2) against vertices"
   ]
  },
  {
   "cell_type": "markdown",
   "id": "b783b95a",
   "metadata": {},
   "source": [
    "As we can see from the 2 graphs, the shape of the two graphs is very similar. So next we will check the correlation between time complexity and average run time of our implementation"
   ]
  },
  {
   "cell_type": "code",
   "execution_count": 34,
   "id": "46e985dc",
   "metadata": {},
   "outputs": [
    {
     "name": "stdout",
     "output_type": "stream",
     "text": [
      "0.9998664042677605\n"
     ]
    }
   ],
   "source": [
    "correlation = np.corrcoef(results1['Average Time'], results1['O(V^2)'])[0, 1]\n",
    "print(correlation)"
   ]
  },
  {
   "cell_type": "markdown",
   "id": "c27e6a70",
   "metadata": {},
   "source": [
    "Since the correlation of 0.999 is extremely close to 1, this suggests that there is almost a perfect linear relationship between average run time of our implementation and the theoretical time complexity.\n",
    "\n",
    "This sugggests to us that our implementation is more likely to be correct."
   ]
  },
  {
   "cell_type": "code",
   "execution_count": null,
   "id": "35547a1c",
   "metadata": {},
   "outputs": [],
   "source": []
  }
 ],
 "metadata": {
  "kernelspec": {
   "display_name": "Python 3 (ipykernel)",
   "language": "python",
   "name": "python3"
  },
  "language_info": {
   "codemirror_mode": {
    "name": "ipython",
    "version": 3
   },
   "file_extension": ".py",
   "mimetype": "text/x-python",
   "name": "python",
   "nbconvert_exporter": "python",
   "pygments_lexer": "ipython3",
   "version": "3.9.12"
  }
 },
 "nbformat": 4,
 "nbformat_minor": 5
}
