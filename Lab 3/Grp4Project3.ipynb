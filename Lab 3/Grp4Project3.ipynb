{
 "cells": [
  {
   "cell_type": "markdown",
   "id": "f73efaa3",
   "metadata": {},
   "source": [
    "(1) P(C) = max(P(C), p0+P(C-w0), p1+P(C-w1), ..., p(n-1)+P(C-w(n-1)))"
   ]
  },
  {
   "cell_type": "code",
   "execution_count": 1,
   "id": "7a4daffc",
   "metadata": {},
   "outputs": [],
   "source": [
    "def knapSack(C, n, w, p): #C = capacity, n = type of items, w = weight, p = profit\n",
    "\n",
    "    table = [0 for x in range(C + 1)] \n",
    " \n",
    "    for i in range(C+1):\n",
    "        max = 0\n",
    "        for j in range(n):\n",
    "            if w[j] <= i:\n",
    "                if table[i-w[j]]+p[j]>max:\n",
    "                    max = table[i-w[j]]+p[j]\n",
    "            table[i]=max\n",
    "    return table[C]"
   ]
  },
  {
   "cell_type": "code",
   "execution_count": 2,
   "id": "dd9ca29d",
   "metadata": {},
   "outputs": [
    {
     "name": "stdout",
     "output_type": "stream",
     "text": [
      "21\n"
     ]
    }
   ],
   "source": [
    "C = 14\n",
    "n = 3\n",
    "w4a = [4, 6, 8]\n",
    "p4a = [7, 6, 9]\n",
    "print(knapSack(C, n, w4a, p4a))"
   ]
  },
  {
   "cell_type": "code",
   "execution_count": 3,
   "id": "246e4937",
   "metadata": {},
   "outputs": [
    {
     "name": "stdout",
     "output_type": "stream",
     "text": [
      "16\n"
     ]
    }
   ],
   "source": [
    "C = 14\n",
    "n = 3\n",
    "w4b = [5, 6, 8]\n",
    "p4b = [7, 6, 9]\n",
    "print(knapSack(C, n, w4b, p4b))"
   ]
  },
  {
   "cell_type": "code",
   "execution_count": 4,
   "id": "6ad159d4",
   "metadata": {},
   "outputs": [
    {
     "name": "stdout",
     "output_type": "stream",
     "text": [
      "Enter capacity of knapsack: 14\n",
      "Enter type of items: 3\n",
      "Weight of items: 4 6 8\n",
      "Profit of items: 7 6 9\n",
      "Max profit:  21\n"
     ]
    }
   ],
   "source": [
    "C = int(input(\"Enter capacity of knapsack: \"))\n",
    "n = int(input(\"Enter type of items: \"))\n",
    "w = list(map(int, input(\"Weight of items: \").split()))\n",
    "p = list(map(int, input(\"Profit of items: \").split()))\n",
    "\n",
    "print(\"Max profit: \", knapSack(C, n, w, p))"
   ]
  },
  {
   "cell_type": "code",
   "execution_count": 5,
   "id": "6f25945a",
   "metadata": {},
   "outputs": [
    {
     "name": "stdout",
     "output_type": "stream",
     "text": [
      "Enter capacity of knapsack: 14\n",
      "Enter type of items: 3\n",
      "Weight of items: 5 6 8\n",
      "Profit of items: 7 6 9\n",
      "Max profit:  16\n"
     ]
    }
   ],
   "source": [
    "C = int(input(\"Enter capacity of knapsack: \"))\n",
    "n = int(input(\"Enter type of items: \"))\n",
    "w = list(map(int, input(\"Weight of items: \").split()))\n",
    "p = list(map(int, input(\"Profit of items: \").split()))\n",
    "\n",
    "print(\"Max profit: \", knapSack(C, n, w, p))"
   ]
  },
  {
   "cell_type": "code",
   "execution_count": null,
   "id": "7b842d82",
   "metadata": {},
   "outputs": [],
   "source": []
  }
 ],
 "metadata": {
  "kernelspec": {
   "display_name": "Python 3 (ipykernel)",
   "language": "python",
   "name": "python3"
  },
  "language_info": {
   "codemirror_mode": {
    "name": "ipython",
    "version": 3
   },
   "file_extension": ".py",
   "mimetype": "text/x-python",
   "name": "python",
   "nbconvert_exporter": "python",
   "pygments_lexer": "ipython3",
   "version": "3.9.13"
  }
 },
 "nbformat": 4,
 "nbformat_minor": 5
}
