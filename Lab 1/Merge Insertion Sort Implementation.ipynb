{
 "cells": [
  {
   "cell_type": "code",
   "execution_count": 1,
   "id": "b4c7ad31",
   "metadata": {},
   "outputs": [],
   "source": [
    "import random\n",
    "import time"
   ]
  },
  {
   "cell_type": "markdown",
   "id": "87eeaa41",
   "metadata": {},
   "source": [
    "The following is the implementation of the algorithm for merge insertion sort"
   ]
  },
  {
   "cell_type": "code",
   "execution_count": 2,
   "id": "dee25fab",
   "metadata": {},
   "outputs": [],
   "source": [
    "keyComparison = 0\n",
    "\n",
    "def hybridSort(arr, threshold):\n",
    "    global keyComparison\n",
    "    if len(arr) > threshold:\n",
    "        \n",
    "        mid = len(arr) // 2\n",
    "        \n",
    "        tempLeftArr = arr[:mid]\n",
    "        tempRightArr = arr[mid:]\n",
    "        \n",
    "        #recursive\n",
    "        hybridSort(tempLeftArr, threshold)\n",
    "        hybridSort(tempRightArr, threshold)\n",
    "        \n",
    "        #combine the sub arrays\n",
    "        i = j = k = 0\n",
    " \n",
    "        while i < len(tempLeftArr) and j < len(tempRightArr):\n",
    "            keyComparison += 1\n",
    "            if tempLeftArr[i] <= tempRightArr[j]:\n",
    "                arr[k] = tempLeftArr[i]\n",
    "                i += 1\n",
    "            else:\n",
    "                arr[k] = tempRightArr[j]\n",
    "                j += 1\n",
    "            k += 1\n",
    " \n",
    "        while i < len(tempLeftArr):\n",
    "            arr[k] = tempLeftArr[i]\n",
    "            i += 1\n",
    "            k += 1\n",
    " \n",
    "        while j < len(tempRightArr):\n",
    "            arr[k] = tempRightArr[j]\n",
    "            j += 1\n",
    "            k += 1\n",
    "        \n",
    "    else:\n",
    "        insertionSort(arr)\n",
    "        \n",
    "        \n",
    "def insertionSort(arr):\n",
    "    global keyComparison\n",
    "    for i in range(1, len(arr)):\n",
    "        item = arr[i]\n",
    "        for j in range (i, 0, -1):\n",
    "            keyComparison += 1\n",
    "            if arr[j] < arr[j - 1]:\n",
    "                arr[j] = arr[j - 1]\n",
    "                arr[j - 1] = item\n",
    "            else:\n",
    "                break"
   ]
  },
  {
   "cell_type": "markdown",
   "id": "1fdef971",
   "metadata": {},
   "source": [
    "The following is the algorithm for the array generation"
   ]
  },
  {
   "cell_type": "code",
   "execution_count": 3,
   "id": "a8a291f4",
   "metadata": {},
   "outputs": [],
   "source": [
    "def arrayGeneration(maxNumber, arrSize):\n",
    "    arr = []\n",
    "    for i in range(arrSize):\n",
    "        arr.append(random.randint(1,maxNumber))\n",
    "        \n",
    "    return arr"
   ]
  },
  {
   "cell_type": "markdown",
   "id": "089ee1d7",
   "metadata": {},
   "source": [
    "With the value of threshold fixed, plot the number of key comparisons over different sizes of the input list n. Compare your empirical results with your theoretical analysis of the time complexity."
   ]
  },
  {
   "cell_type": "code",
   "execution_count": 27,
   "id": "bdfce7cd",
   "metadata": {},
   "outputs": [],
   "source": [
    "def resultsGeneration(arrSizeList, thresholdSizeList):\n",
    "    global keyComparison\n",
    "    keyComparisonResults = []\n",
    "    arraySize = []\n",
    "    thresholdSize = []\n",
    "    timeResults = []\n",
    "    \n",
    "    for size in arrSizeList:\n",
    "        \n",
    "        # Generating array of various sizes\n",
    "        arr = arrayGeneration(1000, size)\n",
    "        \n",
    "        for limit in thresholdSizeList:\n",
    "            \n",
    "            results = []\n",
    "            \n",
    "            # Duplicating the arrays to test on different threshold\n",
    "            tempArray = arr.copy()\n",
    "\n",
    "            # Setting keyComparison back to 0\n",
    "            keyComparison = 0\n",
    "            \n",
    "            # Getting CPU timing\n",
    "            start = time.time()\n",
    "            hybridSort(tempArray, limit)\n",
    "            end = time.time()\n",
    "            print(limit, keyComparison)\n",
    "            \n",
    "            # Appending results into a list\n",
    "            arraySize.append(size)\n",
    "            thresholdSize.append(limit)\n",
    "            results.append(keyComparison)\n",
    "            timeResults.append(end - start)\n",
    "\n",
    "        keyComparisonResults.append(results)\n",
    "        \n",
    "    return arraySize, thresholdSize, keyComparisonResults, timeResults            "
   ]
  },
  {
   "cell_type": "code",
   "execution_count": 28,
   "id": "32dec7ad",
   "metadata": {},
   "outputs": [
    {
     "name": "stdout",
     "output_type": "stream",
     "text": [
      "1 8719\n",
      "2 8719\n",
      "3 8716\n",
      "4 8771\n",
      "5 8771\n",
      "6 8771\n",
      "7 8804\n",
      "8 9144\n",
      "9 9144\n",
      "10 9144\n",
      "1 19432\n",
      "2 19432\n",
      "3 19432\n",
      "4 19567\n",
      "5 19567\n",
      "6 19567\n",
      "7 19657\n",
      "8 20302\n",
      "9 20302\n",
      "10 20302\n",
      "[[9144], [20302]]\n",
      "[1, 2, 3, 4, 5, 6, 7, 8, 9, 10, 1, 2, 3, 4, 5, 6, 7, 8, 9, 10]\n"
     ]
    }
   ],
   "source": [
    "arrSizeList = [1000, 2000]\n",
    "thresholdSizeList = [1,2,3,4,5, 6, 7,8,9,10]\n",
    "\n",
    "arraySize, thresholdSize, keyComparisonResults, timeResults = resultsGeneration(arrSizeList, thresholdSizeList)\n",
    "print(keyComparisonResults)\n",
    "print(thresholdSize)"
   ]
  },
  {
   "cell_type": "code",
   "execution_count": null,
   "id": "cf580e88",
   "metadata": {},
   "outputs": [],
   "source": []
  },
  {
   "cell_type": "code",
   "execution_count": null,
   "id": "8e9b55cb",
   "metadata": {},
   "outputs": [],
   "source": [
    "print(thresholdSize)"
   ]
  },
  {
   "cell_type": "code",
   "execution_count": null,
   "id": "04d4933d",
   "metadata": {},
   "outputs": [],
   "source": []
  }
 ],
 "metadata": {
  "kernelspec": {
   "display_name": "Python 3 (ipykernel)",
   "language": "python",
   "name": "python3"
  },
  "language_info": {
   "codemirror_mode": {
    "name": "ipython",
    "version": 3
   },
   "file_extension": ".py",
   "mimetype": "text/x-python",
   "name": "python",
   "nbconvert_exporter": "python",
   "pygments_lexer": "ipython3",
   "version": "3.9.12"
  }
 },
 "nbformat": 4,
 "nbformat_minor": 5
}
