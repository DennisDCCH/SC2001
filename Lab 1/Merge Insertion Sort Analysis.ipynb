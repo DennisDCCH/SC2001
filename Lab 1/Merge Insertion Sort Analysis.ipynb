{
 "cells": [
  {
   "cell_type": "code",
   "execution_count": 15,
   "id": "7aefc629",
   "metadata": {},
   "outputs": [],
   "source": [
    "import pandas as pd\n",
    "import seaborn as sb\n",
    "import matplotlib.pyplot as plt"
   ]
  },
  {
   "cell_type": "code",
   "execution_count": 8,
   "id": "81011d93",
   "metadata": {},
   "outputs": [
    {
     "data": {
      "text/html": [
       "<div>\n",
       "<style scoped>\n",
       "    .dataframe tbody tr th:only-of-type {\n",
       "        vertical-align: middle;\n",
       "    }\n",
       "\n",
       "    .dataframe tbody tr th {\n",
       "        vertical-align: top;\n",
       "    }\n",
       "\n",
       "    .dataframe thead th {\n",
       "        text-align: right;\n",
       "    }\n",
       "</style>\n",
       "<table border=\"1\" class=\"dataframe\">\n",
       "  <thead>\n",
       "    <tr style=\"text-align: right;\">\n",
       "      <th></th>\n",
       "      <th>Array Size (N)</th>\n",
       "      <th>Key Comparison 1</th>\n",
       "      <th>Key Comparison 2</th>\n",
       "      <th>Key Comparison 3</th>\n",
       "      <th>Key Comparison 4</th>\n",
       "      <th>Key Comparison 5</th>\n",
       "      <th>Average</th>\n",
       "      <th>Threshold (S)</th>\n",
       "      <th>Time Complexity</th>\n",
       "      <th>Worst: NS + Nlog(N/S)</th>\n",
       "      <th>Best: N+Nlog(N/S)</th>\n",
       "      <th>Average.1</th>\n",
       "      <th>log(N/S)</th>\n",
       "    </tr>\n",
       "  </thead>\n",
       "  <tbody>\n",
       "    <tr>\n",
       "      <th>0</th>\n",
       "      <td>1000</td>\n",
       "      <td>9130</td>\n",
       "      <td>9166</td>\n",
       "      <td>9080</td>\n",
       "      <td>9093</td>\n",
       "      <td>9015</td>\n",
       "      <td>9096.8</td>\n",
       "      <td>10</td>\n",
       "      <td>NaN</td>\n",
       "      <td>16643.85619</td>\n",
       "      <td>7643.85619</td>\n",
       "      <td>12143.85619</td>\n",
       "      <td>6.643856</td>\n",
       "    </tr>\n",
       "    <tr>\n",
       "      <th>1</th>\n",
       "      <td>2000</td>\n",
       "      <td>20271</td>\n",
       "      <td>20327</td>\n",
       "      <td>20148</td>\n",
       "      <td>20217</td>\n",
       "      <td>20140</td>\n",
       "      <td>20220.6</td>\n",
       "      <td>10</td>\n",
       "      <td>NaN</td>\n",
       "      <td>35287.71238</td>\n",
       "      <td>17287.71238</td>\n",
       "      <td>26287.71238</td>\n",
       "      <td>7.643856</td>\n",
       "    </tr>\n",
       "    <tr>\n",
       "      <th>2</th>\n",
       "      <td>4000</td>\n",
       "      <td>44500</td>\n",
       "      <td>44509</td>\n",
       "      <td>44378</td>\n",
       "      <td>44492</td>\n",
       "      <td>44338</td>\n",
       "      <td>44443.4</td>\n",
       "      <td>10</td>\n",
       "      <td>NaN</td>\n",
       "      <td>74575.42476</td>\n",
       "      <td>38575.42476</td>\n",
       "      <td>56575.42476</td>\n",
       "      <td>8.643856</td>\n",
       "    </tr>\n",
       "    <tr>\n",
       "      <th>3</th>\n",
       "      <td>8000</td>\n",
       "      <td>96939</td>\n",
       "      <td>97077</td>\n",
       "      <td>96892</td>\n",
       "      <td>97024</td>\n",
       "      <td>96889</td>\n",
       "      <td>96964.2</td>\n",
       "      <td>10</td>\n",
       "      <td>NaN</td>\n",
       "      <td>157150.84950</td>\n",
       "      <td>85150.84952</td>\n",
       "      <td>121150.84950</td>\n",
       "      <td>9.643856</td>\n",
       "    </tr>\n",
       "    <tr>\n",
       "      <th>4</th>\n",
       "      <td>10000</td>\n",
       "      <td>127153</td>\n",
       "      <td>127171</td>\n",
       "      <td>127095</td>\n",
       "      <td>126987</td>\n",
       "      <td>127227</td>\n",
       "      <td>127126.6</td>\n",
       "      <td>10</td>\n",
       "      <td>NaN</td>\n",
       "      <td>199657.84280</td>\n",
       "      <td>109657.84280</td>\n",
       "      <td>154657.84280</td>\n",
       "      <td>9.965784</td>\n",
       "    </tr>\n",
       "  </tbody>\n",
       "</table>\n",
       "</div>"
      ],
      "text/plain": [
       "   Array Size (N)  Key Comparison 1  Key Comparison 2  Key Comparison 3  \\\n",
       "0            1000              9130              9166              9080   \n",
       "1            2000             20271             20327             20148   \n",
       "2            4000             44500             44509             44378   \n",
       "3            8000             96939             97077             96892   \n",
       "4           10000            127153            127171            127095   \n",
       "\n",
       "   Key Comparison 4  Key Comparison 5   Average  Threshold (S)  \\\n",
       "0              9093              9015    9096.8             10   \n",
       "1             20217             20140   20220.6             10   \n",
       "2             44492             44338   44443.4             10   \n",
       "3             97024             96889   96964.2             10   \n",
       "4            126987            127227  127126.6             10   \n",
       "\n",
       "   Time Complexity   Worst: NS + Nlog(N/S)  Best: N+Nlog(N/S)     Average.1  \\\n",
       "0               NaN            16643.85619         7643.85619   12143.85619   \n",
       "1               NaN            35287.71238        17287.71238   26287.71238   \n",
       "2               NaN            74575.42476        38575.42476   56575.42476   \n",
       "3               NaN           157150.84950        85150.84952  121150.84950   \n",
       "4               NaN           199657.84280       109657.84280  154657.84280   \n",
       "\n",
       "   log(N/S)  \n",
       "0  6.643856  \n",
       "1  7.643856  \n",
       "2  8.643856  \n",
       "3  9.643856  \n",
       "4  9.965784  "
      ]
     },
     "execution_count": 8,
     "metadata": {},
     "output_type": "execute_result"
    }
   ],
   "source": [
    "results_c1 = pd.read_csv('results c1.csv')\n",
    "results_c1.head()"
   ]
  },
  {
   "cell_type": "code",
   "execution_count": 46,
   "id": "e3df00c6",
   "metadata": {},
   "outputs": [
    {
     "data": {
      "text/plain": [
       "<AxesSubplot: xlabel='Array Size (N)', ylabel='Key Comparison'>"
      ]
     },
     "execution_count": 46,
     "metadata": {},
     "output_type": "execute_result"
    },
    {
     "data": {
      "image/png": "[encoded data removed]",
      "text/plain": [
       "<Figure size 640x480 with 1 Axes>"
      ]
     },
     "metadata": {},
     "output_type": "display_data"
    }
   ],
   "source": [
    "empirical_results = results_c1[['Best: N+Nlog(N/S)', 'Worst: NS + Nlog(N/S)','Average', 'Array Size (N)']]\n",
    "sb.scatterplot(x = \"Array Size (N)\",\n",
    "               y = \"Average\",\n",
    "               data = empirical_results,\n",
    "               label=\"Empirical Results\").set_ylabel('Key Comparison')\n",
    "\n",
    "sb.scatterplot(x = \"Array Size (N)\",\n",
    "               y = \"Worst: NS + Nlog(N/S)\",\n",
    "               data = empirical_results,\n",
    "               label= \"Worst Key Comparison\")\n",
    "\n",
    "sb.scatterplot(x = \"Array Size (N)\",\n",
    "               y = \"Best: N+Nlog(N/S)\",\n",
    "               data = empirical_results,\n",
    "               label= \"Best Key Comparison\")"
   ]
  },
  {
   "cell_type": "markdown",
   "id": "f0c638f0",
   "metadata": {},
   "source": [
    "The key comparison that is gotten across the different sizes of input list all lies within the interval of the best and worst time complexity of the algorithm.\n",
    "\n",
    "Best Time Complexity = N + Nlog(N/S)\n",
    "\n",
    "Worst Time Complexity = NS + Nlog(N/S)\n",
    "\n",
    "N: Array Size, S: threshold"
   ]
  },
  {
   "cell_type": "code",
   "execution_count": null,
   "id": "d2899292",
   "metadata": {},
   "outputs": [],
   "source": []
  },
  {
   "cell_type": "code",
   "execution_count": null,
   "id": "898c52be",
   "metadata": {},
   "outputs": [],
   "source": []
  }
 ],
 "metadata": {
  "kernelspec": {
   "display_name": "Python 3 (ipykernel)",
   "language": "python",
   "name": "python3"
  },
  "language_info": {
   "codemirror_mode": {
    "name": "ipython",
    "version": 3
   },
   "file_extension": ".py",
   "mimetype": "text/x-python",
   "name": "python",
   "nbconvert_exporter": "python",
   "pygments_lexer": "ipython3",
   "version": "3.9.12"
  }
 },
 "nbformat": 4,
 "nbformat_minor": 5
}
